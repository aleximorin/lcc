{
 "cells": [
  {
   "cell_type": "code",
   "execution_count": 151,
   "id": "5bbd401f",
   "metadata": {},
   "outputs": [],
   "source": [
    "%matplotlib inline\n",
    "import numpy as np\n",
    "import matplotlib.pyplot as plt\n",
    "import oggm\n",
    "import os"
   ]
  },
  {
   "cell_type": "markdown",
   "id": "3a172c55",
   "metadata": {},
   "source": [
    "### Importing glacier geometry data\n",
    "\n",
    "We can use OGGM to import the glacier geometry for Findelen. This produces a ``GeoDataFrame`` object from `geopandas`. "
   ]
  },
  {
   "cell_type": "code",
   "execution_count": 152,
   "id": "01323b16",
   "metadata": {},
   "outputs": [
    {
     "name": "stderr",
     "output_type": "stream",
     "text": [
      "2023-05-04 11:40:10: oggm.cfg: Reading default parameters from the OGGM `params.cfg` configuration file.\n",
      "2023-05-04 11:40:10: oggm.cfg: Multiprocessing switched OFF according to the parameter file.\n",
      "2023-05-04 11:40:10: oggm.cfg: Multiprocessing: using all available processors (N=8)\n"
     ]
    },
    {
     "data": {
      "text/plain": [
       "<AxesSubplot:>"
      ]
     },
     "execution_count": 152,
     "metadata": {},
     "output_type": "execute_result"
    },
    {
     "data": {
      "image/png": "[encoded data removed]",
      "text/plain": [
       "<Figure size 432x288 with 1 Axes>"
      ]
     },
     "metadata": {
      "needs_background": "light"
     },
     "output_type": "display_data"
    }
   ],
   "source": [
    "from oggm import cfg, workflow, graphics, tasks, utils\n",
    "import geopandas as gpd\n",
    "\n",
    "cfg.initialize()\n",
    "cfg.PATHS['working_dir'] = utils.gettempdir(dirname='OGGM-shop', reset=True)\n",
    "\n",
    "\n",
    "glacier = utils.get_rgi_glacier_entities(['RGI60-11.02773'], version='62').to_crs(32632)\n",
    "glacier.geometry.plot()"
   ]
  },
  {
   "cell_type": "markdown",
   "id": "ab9543be",
   "metadata": {},
   "source": [
    "### Accessing velocity data from ITS_LIVE\n",
    "\n",
    "I couldn't figure out how to use OGGM to directly import velocity data; we have to go on [ITS_LIVE](https://nsidc.org/apps/itslive/) and use the app to manually download the velocity image pairs.\n",
    "\n",
    "This gives us a text file containing urls to download the image pairs. Using a little programming, we can download them all and put them in a tidy folder."
   ]
  },
  {
   "cell_type": "code",
   "execution_count": 153,
   "id": "94a37f00",
   "metadata": {},
   "outputs": [],
   "source": [
    "# we store the urls in a list and create a savepath\n",
    "txt_path = r'C:\\Users\\alexi\\Desktop\\2scool4cool\\a2022\\image_matching\\data\\pairs_urls.text'\n",
    "\n",
    "with open(txt_path, 'r') as file:\n",
    "    urls = [line.rstrip() for line in file]\n",
    "    \n",
    "savepath = r'C:\\Users\\alexi\\Desktop\\2scool4cool\\a2022\\image_matching\\data\\Findelen'\n",
    "try:\n",
    "    os.makedirs(savepath)\n",
    "except OSError:\n",
    "    pass\n"
   ]
  },
  {
   "cell_type": "code",
   "execution_count": null,
   "id": "2a7cd18e",
   "metadata": {
    "scrolled": true
   },
   "outputs": [
    {
     "name": "stdout",
     "output_type": "stream",
     "text": [
      "Downloading 807 out of 1711: S1B_IW_SLC__1SDV_20210512T053432_20210512T053459_026867_0335B6_81DE_X_S1B_IW_SLC__1SDV_20210524T053432_20210524T053459_027042_033B10_50C5_G0120V02_P095.nc"
     ]
    }
   ],
   "source": [
    "# here we download the files!!\n",
    "import requests\n",
    "\n",
    "for i, url in enumerate(urls):\n",
    "    \n",
    "    file_name = url.split('/')[-1]\n",
    "    print(f'\\rDownloading {i+1} out of {len(urls)}: {file_name}', end='')\n",
    "    \n",
    "    r = requests.get(url, stream=True)\n",
    "    \n",
    "    try:\n",
    "        \n",
    "        with open(os.path.join(savepath, file_name), 'wb') as f:\n",
    "            for data in r:\n",
    "                f.write(data)\n",
    "            \n",
    "    except PermissionError:\n",
    "        pass"
   ]
  },
  {
   "cell_type": "markdown",
   "id": "0f8b3b9a",
   "metadata": {},
   "source": [
    "### Processing the downloaded rasters\n",
    "\n",
    "We will now open every raster and clip it to the glacier's geometry. We can do so easily using the library ``rioxarray`` built on top of ``xarray``."
   ]
  },
  {
   "cell_type": "code",
   "execution_count": null,
   "id": "99a26c2f",
   "metadata": {},
   "outputs": [],
   "source": [
    "from datetime import datetime\n",
    "import rioxarray as rxr\n",
    "\n",
    "# we will store everything in lists, could be arrays but it's simpler and worryless\n",
    "times = []\n",
    "velocities = []\n",
    "\n",
    "for i, file in enumerate(os.listdir(savepath)):\n",
    "    print(f'\\rClipping {i+1} out of {len(urls)}: {file}', end='')\n",
    "\n",
    "    # we want to extract the time at which the image pairs were taken \n",
    "    meta = file.split('_')\n",
    "    t1 = datetime.strptime(str(meta[2]), '%Y%m%d')\n",
    "    t2 = datetime.strptime(str(meta[8]), '%Y%m%d')\n",
    "    \n",
    "    # we compute the middle point between the two image pairs\n",
    "    t = t1 + (t2 - t1)/2\n",
    "    \n",
    "    # we open the raster\n",
    "    ras = rxr.open_rasterio(os.path.join(savepath, file))\n",
    "    \n",
    "    # give it a proper spatial reference (idk if necessary)\n",
    "    ras.rio.set_spatial_dims('y', 'x', inplace=True)\n",
    "    ras.rio.write_crs('epsg:32632', inplace=True)\n",
    "    \n",
    "    # clip it with the glacier geometry\n",
    "    ras = ras.rio.clip(glacier.geometry)\n",
    "    \n",
    "    # we write those to the lists\n",
    "    times.append(t)\n",
    "    velocities.append(ras)\n",
    "    "
   ]
  },
  {
   "cell_type": "code",
   "execution_count": null,
   "id": "b52bf745",
   "metadata": {},
   "outputs": [],
   "source": [
    "# we see that the rasters have weird values outside the glacier...\n",
    "maskval = ras.v.min()\n",
    "ras.v.plot()"
   ]
  },
  {
   "cell_type": "code",
   "execution_count": null,
   "id": "afbf694d",
   "metadata": {},
   "outputs": [],
   "source": [
    "# we need to process this\n",
    "import xarray as xr\n",
    "\n",
    "stacked_velocities = xr.concat(velocities, dim='t')\n",
    "stacked_velocities['t'] = times\n",
    "stacked_velocities = stacked_velocities.sortby('t')\n",
    "\n",
    "mask = stacked_velocities['v'] <= -1000\n",
    "stacked_velocities['v'] = xr.where(mask, np.nan, stacked_velocities['v'])\n",
    "\n",
    "stacked_velocities['v'].mean('t').plot()"
   ]
  },
  {
   "cell_type": "code",
   "execution_count": null,
   "id": "0105cc7f",
   "metadata": {},
   "outputs": [],
   "source": [
    "# I have been on this glacier once... let's superimpose our data\n",
    "\n",
    "lines_path = r'C:\\Users\\alexi\\Desktop\\2scool4cool\\a2022\\image_matching\\data\\CRAG_Easter_field_work_.gpx'\n",
    "lines = gpd.read_file(lines_path, layer='tracks').to_crs('epsg:32632')\n",
    "\n",
    "stacked_velocities['v'].mean('t').plot()\n",
    "lines.plot(ax=plt.gca(), color='k')"
   ]
  },
  {
   "cell_type": "markdown",
   "id": "4192c896",
   "metadata": {},
   "source": [
    "### Looks like we really were on this glacier! \n",
    "\n",
    "Not so far up east however. By extracting point data, we can look at a convenient time series."
   ]
  },
  {
   "cell_type": "code",
   "execution_count": null,
   "id": "91e05dab",
   "metadata": {},
   "outputs": [],
   "source": [
    "# The furthermost north-east point will do nicely.\n",
    "xy = np.array(lines.geometry[0].geoms[0].xy)\n",
    "\n",
    "ii = np.linalg.norm(xy, axis=0).argmax()\n",
    "point = xy[:, ii]\n",
    "\n",
    "stacked_velocities['v'].mean('t').plot()\n",
    "lines.plot(ax=plt.gca(), color='k')\n",
    "plt.scatter(*point, c='red', marker='*', zorder=10, s=100)"
   ]
  },
  {
   "cell_type": "code",
   "execution_count": null,
   "id": "fb939e9d",
   "metadata": {},
   "outputs": [],
   "source": [
    "# extracting the data close to the point\n",
    "ts = stacked_velocities.sel(x=point[0], y=point[1], method='nearest')\n",
    "vel = ts.v.values\n",
    "t = ts.t.values\n",
    "\n",
    "plt.figure(figsize=(10, 5))\n",
    "plt.scatter(t, vel)\n"
   ]
  }
 ],
 "metadata": {
  "kernelspec": {
   "display_name": "Python 3",
   "language": "python",
   "name": "python3"
  },
  "language_info": {
   "codemirror_mode": {
    "name": "ipython",
    "version": 3
   },
   "file_extension": ".py",
   "mimetype": "text/x-python",
   "name": "python",
   "nbconvert_exporter": "python",
   "pygments_lexer": "ipython3",
   "version": "3.8.5"
  }
 },
 "nbformat": 4,
 "nbformat_minor": 5
}
