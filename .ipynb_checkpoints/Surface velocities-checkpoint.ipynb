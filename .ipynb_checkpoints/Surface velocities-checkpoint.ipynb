{
 "cells": [
  {
   "cell_type": "code",
   "execution_count": null,
   "id": "5bbd401f",
   "metadata": {},
   "outputs": [],
   "source": [
    "%matplotlib inline\n",
    "import numpy as np\n",
    "import matplotlib.pyplot as plt\n",
    "import oggm"
   ]
  },
  {
   "cell_type": "markdown",
   "id": "3a172c55",
   "metadata": {},
   "source": [
    "### Importing glacier geometry data\n",
    "\n",
    "We can use OGGM to import the glacier geometry for Findelen. This produces a ``GeoDataFrame`` object from `geopandas`. "
   ]
  },
  {
   "cell_type": "code",
   "execution_count": null,
   "id": "01323b16",
   "metadata": {},
   "outputs": [],
   "source": [
    "from oggm import cfg, workflow, graphics, tasks, utils\n",
    "import geopandas as gpd\n",
    "\n",
    "cfg.initialize()\n",
    "cfg.PATHS['working_dir'] = utils.gettempdir(dirname='OGGM-shop', reset=True)\n",
    "\n",
    "\n",
    "glacier = utils.get_rgi_glacier_entities(['RGI60-11.02773'], version='62').to_crs(32632)\n",
    "glacier.geometry.plot()"
   ]
  },
  {
   "cell_type": "markdown",
   "id": "ab9543be",
   "metadata": {},
   "source": [
    "### Accessing velocity data from ITS_LIVE\n",
    "\n",
    "I couldn't figure out how to use OGGM to directly import velocity data; we have to go on [ITS_LIVE](https://nsidc.org/apps/itslive/) and use the app to manually download the velocity image pairs.\n",
    "\n",
    "This gives us a text file containing urls to download the image pairs. Using a little programming, we can download them all and put them in a tidy folder."
   ]
  },
  {
   "cell_type": "code",
   "execution_count": 1,
   "id": "94a37f00",
   "metadata": {},
   "outputs": [
    {
     "name": "stdout",
     "output_type": "stream",
     "text": [
      "Downloading 197 out of 197: S2B_32TMS_20190912_0_L1C_X_S2A_32TMS_20190917_0_L1C_G0120V02_P081.nc"
     ]
    }
   ],
   "source": [
    "txt_path = r'C:\\Users\\alexi\\Desktop\\2scool4cool\\a2022\\image_matching\\data\\pairs_urls.text'\n",
    "with open(txt_path, 'r') as file:\n",
    "    urls = [line.rstrip() for line in file]\n",
    "    \n",
    "import os\n",
    "savepath = r'C:\\Users\\alexi\\Desktop\\2scool4cool\\a2022\\image_matching\\data\\Findelen'\n",
    "try:\n",
    "    os.makedirs(savepath)\n",
    "except OSError:\n",
    "    pass\n",
    "\n",
    "import requests\n",
    "\n",
    "for i, url in enumerate(urls):\n",
    "    \n",
    "    file_name = url.split('/')[-1]\n",
    "    print(f'\\rDownloading {i+1} out of {len(urls)}: {file_name}', end='')\n",
    "    \n",
    "    r = requests.get(url, stream=True)\n",
    "    \n",
    "    try:\n",
    "        \n",
    "        with open(os.path.join(savepath, file_name), 'wb') as f:\n",
    "            for data in r:\n",
    "                f.write(data)\n",
    "            \n",
    "    except PermissionError:\n",
    "        pass"
   ]
  },
  {
   "cell_type": "code",
   "execution_count": null,
   "id": "3a6d363d",
   "metadata": {},
   "outputs": [],
   "source": [
    "import rioxarray as rxr\n",
    "for file in os.listdir(savepath):\n",
    "    ras = rxr.open_rasterio(os.path.join(savepath, file))\n",
    "    \n",
    "ras.rio.set_spatial_dims('y', 'x', inplace=True)\n",
    "ras.rio.write_crs('epsg:32632', inplace=True)"
   ]
  },
  {
   "cell_type": "code",
   "execution_count": null,
   "id": "99a26c2f",
   "metadata": {},
   "outputs": [],
   "source": [
    "ras = ras.rio.clip(glacier.geometry)\n"
   ]
  },
  {
   "cell_type": "code",
   "execution_count": null,
   "id": "b52bf745",
   "metadata": {},
   "outputs": [],
   "source": [
    "ras.x"
   ]
  }
 ],
 "metadata": {
  "kernelspec": {
   "display_name": "Python 3",
   "language": "python",
   "name": "python3"
  },
  "language_info": {
   "codemirror_mode": {
    "name": "ipython",
    "version": 3
   },
   "file_extension": ".py",
   "mimetype": "text/x-python",
   "name": "python",
   "nbconvert_exporter": "python",
   "pygments_lexer": "ipython3",
   "version": "3.8.5"
  }
 },
 "nbformat": 4,
 "nbformat_minor": 5
}
